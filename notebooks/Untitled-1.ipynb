{
 "cells": [
  {
   "cell_type": "code",
   "execution_count": 5,
   "metadata": {},
   "outputs": [
    {
     "name": "stdout",
     "output_type": "stream",
     "text": [
      "/Users/ankur/Documents/python_rapos_solvei8/datascience/data/hotel_bookings.csv\n"
     ]
    }
   ],
   "source": [
    "import os\n",
    "from dotenv import load_dotenv\n",
    "from langchain.vectorstores import FAISS\n",
    "from langchain.embeddings import HuggingFaceEmbeddings\n",
    "import pandas as pd\n",
    "\n",
    "VECTOR_STORE_PATH = \"models/faiss_index\"\n",
    "\n",
    "def store_vectors(csv_path):\n",
    "    \"\"\"Stores vector embeddings for given texts.\"\"\"\n",
    "    load_dotenv()\n",
    "\n",
    "    # Convert relative path to absolute\n",
    "    csv_path = os.path.abspath(csv_path)\n",
    "\n",
    "    print(csv_path)\n",
    "\n",
    "# Run vector storage\n",
    "store_vectors(\"../data/hotel_bookings.csv\")  # Adjust if needed\n"
   ]
  }
 ],
 "metadata": {
  "kernelspec": {
   "display_name": ".venv",
   "language": "python",
   "name": "python3"
  },
  "language_info": {
   "codemirror_mode": {
    "name": "ipython",
    "version": 3
   },
   "file_extension": ".py",
   "mimetype": "text/x-python",
   "name": "python",
   "nbconvert_exporter": "python",
   "pygments_lexer": "ipython3",
   "version": "3.13.2"
  }
 },
 "nbformat": 4,
 "nbformat_minor": 2
}
